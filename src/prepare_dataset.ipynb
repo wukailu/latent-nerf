{
 "cells": [
  {
   "cell_type": "markdown",
   "metadata": {},
   "source": [
    "# Convert augmented dataset into huggingface datasets ImageFolder format\n",
    "* For detail check https://huggingface.co/docs/datasets/v2.4.0/en/image_load#image-captioning\n",
    "* Containing RGB Image, Disparity, Text Captioning."
   ]
  },
  {
   "cell_type": "code",
   "execution_count": 1,
   "metadata": {},
   "outputs": [
    {
     "data": {
      "application/vnd.jupyter.widget-view+json": {
       "model_id": "9102f318db11454f857953d54b51435d",
       "version_major": 2,
       "version_minor": 0
      },
      "text/plain": [
       "Loading checkpoint shards:   0%|          | 0/2 [00:00<?, ?it/s]"
      ]
     },
     "metadata": {},
     "output_type": "display_data"
    }
   ],
   "source": [
    "import os\n",
    "os.environ[\"TRANSFORMERS_OFFLINE\"]=\"1\"\n",
    "os.environ[\"HF_DATASETS_OFFLINE\"]=\"1\"\n",
    "\n",
    "from transformers import AutoProcessor, Blip2ForConditionalGeneration\n",
    "import torch\n",
    "\n",
    "processor = AutoProcessor.from_pretrained(\"Salesforce/blip2-opt-2.7b\")\n",
    "model = Blip2ForConditionalGeneration.from_pretrained(\"Salesforce/blip2-opt-2.7b\", torch_dtype=torch.float16)"
   ]
  },
  {
   "cell_type": "code",
   "execution_count": 2,
   "metadata": {},
   "outputs": [],
   "source": [
    "import torch\n",
    "device = \"cuda\" if torch.cuda.is_available() else \"cpu\"\n",
    "model = model.to(device)"
   ]
  },
  {
   "cell_type": "code",
   "execution_count": 9,
   "metadata": {},
   "outputs": [],
   "source": [
    "from PIL import Image\n",
    "import torch\n",
    "@torch.no_grad()\n",
    "def get_caption(image: Image, prompt=\"A picture of \"):\n",
    "    inputs = processor(image, text=prompt, return_tensors=\"pt\").to(device, torch.float16)\n",
    "    generated_ids = model.generate(**inputs, max_new_tokens=30)\n",
    "    generated_text = processor.batch_decode(generated_ids, skip_special_tokens=True)[0].strip()\n",
    "    return generated_text"
   ]
  },
  {
   "cell_type": "code",
   "execution_count": 45,
   "metadata": {},
   "outputs": [],
   "source": [
    "data_folder = \"/data/NYU_gen/\"\n",
    "disparity_folder = data_folder + \"disparity\"\n",
    "image_folder = data_folder + \"images\"\n",
    "config_path = data_folder + \"metadata.jsonl\""
   ]
  },
  {
   "cell_type": "code",
   "execution_count": 46,
   "metadata": {},
   "outputs": [],
   "source": [
    "import glob\n",
    "import os\n",
    "disparity_list = glob.glob(os.path.join(disparity_folder, \"*.png\"))\n",
    "disparity_list = sorted(disparity_list, key=lambda x: int(x.split('/')[-1][:-4]))"
   ]
  },
  {
   "cell_type": "code",
   "execution_count": 47,
   "metadata": {},
   "outputs": [],
   "source": [
    "import jsonlines\n",
    "if os.path.exists(config_path):\n",
    "    with jsonlines.open(config_path, 'r') as reader:\n",
    "        metadata = [obj for obj in reader]\n",
    "else:\n",
    "    metadata = []\n",
    "\n",
    "filename_meta = {d[\"file_name\"]: d for d in metadata}"
   ]
  },
  {
   "cell_type": "code",
   "execution_count": null,
   "metadata": {},
   "outputs": [
    {
     "name": "stderr",
     "output_type": "stream",
     "text": [
      "  0%|▎                                                                                                                                         | 42/18471 [00:01<08:45, 35.09it/s]"
     ]
    }
   ],
   "source": [
    "from PIL import Image\n",
    "from tqdm import tqdm\n",
    "\n",
    "skip_processed = True\n",
    "for disparity_path in tqdm(disparity_list):\n",
    "    idx = int(disparity_path.split('/')[-1][:-4])\n",
    "    image_paths = glob.glob(os.path.join(image_folder,f\"{idx}_gen_*.png\"))\n",
    "    for image_path in image_paths:\n",
    "        file_name = image_path[len(data_folder):]\n",
    "        if (file_name in filename_meta) and (\"text\" in filename_meta[file_name]) and skip_processed:\n",
    "            continue\n",
    "        image = Image.open(image_path).convert(\"RGB\")\n",
    "        prefix_list = [\"A picture of \", \"A styled room that\", \"\", \"A indoor room with \"]\n",
    "        question_list = []\n",
    "        caption = [prefix + get_caption(image, prefix) for prefix in prefix_list]\n",
    "        caption += [get_caption(image, question) for question in question_list]\n",
    "        info = {\n",
    "            \"file_name\": file_name,\n",
    "            \"disparity\": disparity_path[len(data_folder):],\n",
    "            \"text\": caption,\n",
    "        }\n",
    "        metadata.append(info)\n",
    "        with jsonlines.open(config_path, 'a') as writer:\n",
    "            writer.write(info)\n",
    "\n",
    "with jsonlines.open(config_path, 'w') as writer:\n",
    "    writer.write_all(metadata)"
   ]
  },
  {
   "cell_type": "code",
   "execution_count": null,
   "metadata": {},
   "outputs": [],
   "source": []
  }
 ],
 "metadata": {
  "kernelspec": {
   "display_name": "Python 3 (ipykernel)",
   "language": "python",
   "name": "python3"
  },
  "language_info": {
   "codemirror_mode": {
    "name": "ipython",
    "version": 3
   },
   "file_extension": ".py",
   "mimetype": "text/x-python",
   "name": "python",
   "nbconvert_exporter": "python",
   "pygments_lexer": "ipython3",
   "version": "3.7.16"
  }
 },
 "nbformat": 4,
 "nbformat_minor": 1
}
